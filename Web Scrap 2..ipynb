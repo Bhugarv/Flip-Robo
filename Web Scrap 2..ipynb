{
 "cells": [
  {
   "cell_type": "code",
   "execution_count": 3,
   "metadata": {},
   "outputs": [],
   "source": [
    "from bs4 import BeautifulSoup\n",
    "import requests\n",
    "from selenium import webdriver\n",
    "from selenium.webdriver.common.keys import Keys\n",
    "from time import sleep"
   ]
  },
  {
   "cell_type": "markdown",
   "metadata": {},
   "source": [
    "### Task 1"
   ]
  },
  {
   "cell_type": "code",
   "execution_count": 2,
   "metadata": {},
   "outputs": [],
   "source": [
    "chromedriver_path = r\"C:\\Users\\91987\\Desktop\\New Web diver/chromedriver.exe\"\n",
    "webdrivers = webdriver.Chrome(executable_path=chromedriver_path)\n",
    "webdrivers = webdriver.Chrome(executable_path=chromedriver_path)\n",
    "sleep(2)\n",
    "webdrivers.get(\"https://www.naukri.com/\")\n",
    "\n",
    "\n",
    "skill=webdrivers.find_element_by_css_selector(\"#qsb-keyword-sugg\")\n",
    "skill.send_keys(\"Data Analyst\")\n",
    "location=webdrivers.find_element_by_css_selector(\"#qsb-location-sugg\")\n",
    "location.send_keys(\"Bangalore\")\n",
    "search=webdrivers.find_element_by_css_selector(\"#root > div.naukriHomePageContainer > div.topSection > section > div > form > div.search-btn > button\")\n",
    "search.click()\n",
    "\n"
   ]
  },
  {
   "cell_type": "code",
   "execution_count": 4,
   "metadata": {
    "collapsed": true
   },
   "outputs": [
    {
     "data": {
      "text/plain": [
       "[<selenium.webdriver.remote.webelement.WebElement (session=\"c7359e06ed56931637116649ff27c642\", element=\"a15269c9-2948-4874-a150-c3799f5ea5a8\")>,\n",
       " <selenium.webdriver.remote.webelement.WebElement (session=\"c7359e06ed56931637116649ff27c642\", element=\"027e5da6-76a5-4063-921e-f0bb4209f953\")>,\n",
       " <selenium.webdriver.remote.webelement.WebElement (session=\"c7359e06ed56931637116649ff27c642\", element=\"50b32787-cb5d-4e87-a3c2-a8cdcaadeb36\")>,\n",
       " <selenium.webdriver.remote.webelement.WebElement (session=\"c7359e06ed56931637116649ff27c642\", element=\"4c679ee7-2eb2-441e-b8c5-7a634d0da940\")>,\n",
       " <selenium.webdriver.remote.webelement.WebElement (session=\"c7359e06ed56931637116649ff27c642\", element=\"d4b9d100-1d80-4fd5-85f9-3efd3694e7da\")>,\n",
       " <selenium.webdriver.remote.webelement.WebElement (session=\"c7359e06ed56931637116649ff27c642\", element=\"1f6992e8-5e5e-49df-adbf-f9c31472603e\")>,\n",
       " <selenium.webdriver.remote.webelement.WebElement (session=\"c7359e06ed56931637116649ff27c642\", element=\"93eec389-296d-47e3-8d1f-07cccccbda87\")>,\n",
       " <selenium.webdriver.remote.webelement.WebElement (session=\"c7359e06ed56931637116649ff27c642\", element=\"9d53ec27-3d36-4a87-ab38-7a608eaf3746\")>,\n",
       " <selenium.webdriver.remote.webelement.WebElement (session=\"c7359e06ed56931637116649ff27c642\", element=\"ccb0ceb8-7f87-467c-839d-741a3c03854c\")>,\n",
       " <selenium.webdriver.remote.webelement.WebElement (session=\"c7359e06ed56931637116649ff27c642\", element=\"e77125cd-7577-4e49-8e68-6dbad26b66b2\")>]"
      ]
     },
     "execution_count": 4,
     "metadata": {},
     "output_type": "execute_result"
    }
   ],
   "source": [
    "job_title=[]\n",
    "job_location=[]\n",
    "company_name=[]\n",
    "exp_req=[]\n",
    "\n",
    "job_tags=webdrivers.find_elements_by_xpath(\"//a[@class='title fw500 ellipsis']\")\n",
    "job_tags[0:10]\n",
    "company_tags=webdrivers.find_elements_by_xpath(\"//a[@class='subTitle ellipsis fleft']\")\n",
    "company_tags[0:10]\n",
    "location_tags=webdrivers.find_elements_by_xpath(\"//li[@class='fleft grey-text br2 placeHolderLi location']\")\n",
    "location_tags[0:10]\n",
    "exp_tags=webdrivers.find_elements_by_xpath(\"//li[@class='fleft grey-text br2 placeHolderLi experience']\")\n",
    "exp_tags[0:10]\n"
   ]
  },
  {
   "cell_type": "code",
   "execution_count": 5,
   "metadata": {},
   "outputs": [],
   "source": [
    "for i in range(0,10):\n",
    "    job_tag=job_tags[i].text\n",
    "    job_title.append(job_tag)\n",
    "    company_tag=company_tags[i].text\n",
    "    company_name.append(company_tag)\n",
    "    location_tag=location_tags[i].text\n",
    "    job_location.append(location_tag)\n",
    "    exp_tag=exp_tags[i].text\n",
    "    exp_req.append(exp_tag)\n",
    "    \n"
   ]
  },
  {
   "cell_type": "code",
   "execution_count": 6,
   "metadata": {},
   "outputs": [
    {
     "data": {
      "application/javascript": [
       "\n",
       "        if (window._pyforest_update_imports_cell) { window._pyforest_update_imports_cell('import pandas as pd'); }\n",
       "    "
      ],
      "text/plain": [
       "<IPython.core.display.Javascript object>"
      ]
     },
     "metadata": {},
     "output_type": "display_data"
    }
   ],
   "source": [
    "Job_details=pd.DataFrame({})\n",
    "Job_details[\"Job Title\"]=job_title\n",
    "Job_details[\"Company Name\"]=company_name\n",
    "Job_details[\"Job Location\"]=job_location\n",
    "Job_details[\"Experience Required\"]=exp_req"
   ]
  },
  {
   "cell_type": "code",
   "execution_count": 7,
   "metadata": {},
   "outputs": [
    {
     "data": {
      "text/html": [
       "<div>\n",
       "<style scoped>\n",
       "    .dataframe tbody tr th:only-of-type {\n",
       "        vertical-align: middle;\n",
       "    }\n",
       "\n",
       "    .dataframe tbody tr th {\n",
       "        vertical-align: top;\n",
       "    }\n",
       "\n",
       "    .dataframe thead th {\n",
       "        text-align: right;\n",
       "    }\n",
       "</style>\n",
       "<table border=\"1\" class=\"dataframe\">\n",
       "  <thead>\n",
       "    <tr style=\"text-align: right;\">\n",
       "      <th></th>\n",
       "      <th>Job Title</th>\n",
       "      <th>Company Name</th>\n",
       "      <th>Job Location</th>\n",
       "      <th>Experience Required</th>\n",
       "    </tr>\n",
       "  </thead>\n",
       "  <tbody>\n",
       "    <tr>\n",
       "      <th>0</th>\n",
       "      <td>Data Analyst</td>\n",
       "      <td>RedLock, Inc</td>\n",
       "      <td>Bangalore/Bengaluru</td>\n",
       "      <td>0-0 Yrs</td>\n",
       "    </tr>\n",
       "    <tr>\n",
       "      <th>1</th>\n",
       "      <td>Data Analyst</td>\n",
       "      <td>Super India Tech Mark</td>\n",
       "      <td>Bangalore/Bengaluru(Devalapur)</td>\n",
       "      <td>0-2 Yrs</td>\n",
       "    </tr>\n",
       "    <tr>\n",
       "      <th>2</th>\n",
       "      <td>Data Analyst</td>\n",
       "      <td>tech mahindra ltd</td>\n",
       "      <td>Bangalore/Bengaluru</td>\n",
       "      <td>4-8 Yrs</td>\n",
       "    </tr>\n",
       "    <tr>\n",
       "      <th>3</th>\n",
       "      <td>Data Analyst</td>\n",
       "      <td>CONDUENT BUSINESS SERVICES INDIA LLP</td>\n",
       "      <td>Bangalore/Bengaluru</td>\n",
       "      <td>1-2 Yrs</td>\n",
       "    </tr>\n",
       "    <tr>\n",
       "      <th>4</th>\n",
       "      <td>Data Analyst</td>\n",
       "      <td>GlaxoSmithKline Pharmaceuticals Limited</td>\n",
       "      <td>Bangalore/Bengaluru</td>\n",
       "      <td>2-7 Yrs</td>\n",
       "    </tr>\n",
       "    <tr>\n",
       "      <th>5</th>\n",
       "      <td>Data Analyst</td>\n",
       "      <td>Myntra Designs Pvt. Ltd.</td>\n",
       "      <td>Bangalore/Bengaluru</td>\n",
       "      <td>3-6 Yrs</td>\n",
       "    </tr>\n",
       "    <tr>\n",
       "      <th>6</th>\n",
       "      <td>Data Analyst</td>\n",
       "      <td>Myntra Designs Pvt. Ltd.</td>\n",
       "      <td>Bangalore/Bengaluru</td>\n",
       "      <td>4-8 Yrs</td>\n",
       "    </tr>\n",
       "    <tr>\n",
       "      <th>7</th>\n",
       "      <td>Data Analyst</td>\n",
       "      <td>Myntra Designs Pvt. Ltd.</td>\n",
       "      <td>Bangalore/Bengaluru</td>\n",
       "      <td>4-8 Yrs</td>\n",
       "    </tr>\n",
       "    <tr>\n",
       "      <th>8</th>\n",
       "      <td>Data Analyst</td>\n",
       "      <td>WEIWO Communication Pvt. Ltd.</td>\n",
       "      <td>Bangalore/Bengaluru(Ulsoor)</td>\n",
       "      <td>5-8 Yrs</td>\n",
       "    </tr>\n",
       "    <tr>\n",
       "      <th>9</th>\n",
       "      <td>Senior Data Analyst</td>\n",
       "      <td>Cerner</td>\n",
       "      <td>Bangalore/Bengaluru</td>\n",
       "      <td>3-5 Yrs</td>\n",
       "    </tr>\n",
       "  </tbody>\n",
       "</table>\n",
       "</div>"
      ],
      "text/plain": [
       "             Job Title                             Company Name  \\\n",
       "0         Data Analyst                             RedLock, Inc   \n",
       "1         Data Analyst                    Super India Tech Mark   \n",
       "2         Data Analyst                        tech mahindra ltd   \n",
       "3         Data Analyst     CONDUENT BUSINESS SERVICES INDIA LLP   \n",
       "4         Data Analyst  GlaxoSmithKline Pharmaceuticals Limited   \n",
       "5         Data Analyst                 Myntra Designs Pvt. Ltd.   \n",
       "6         Data Analyst                 Myntra Designs Pvt. Ltd.   \n",
       "7         Data Analyst                 Myntra Designs Pvt. Ltd.   \n",
       "8         Data Analyst            WEIWO Communication Pvt. Ltd.   \n",
       "9  Senior Data Analyst                                   Cerner   \n",
       "\n",
       "                     Job Location Experience Required  \n",
       "0             Bangalore/Bengaluru             0-0 Yrs  \n",
       "1  Bangalore/Bengaluru(Devalapur)             0-2 Yrs  \n",
       "2             Bangalore/Bengaluru             4-8 Yrs  \n",
       "3             Bangalore/Bengaluru             1-2 Yrs  \n",
       "4             Bangalore/Bengaluru             2-7 Yrs  \n",
       "5             Bangalore/Bengaluru             3-6 Yrs  \n",
       "6             Bangalore/Bengaluru             4-8 Yrs  \n",
       "7             Bangalore/Bengaluru             4-8 Yrs  \n",
       "8     Bangalore/Bengaluru(Ulsoor)             5-8 Yrs  \n",
       "9             Bangalore/Bengaluru             3-5 Yrs  "
      ]
     },
     "execution_count": 7,
     "metadata": {},
     "output_type": "execute_result"
    }
   ],
   "source": [
    "Job_details"
   ]
  },
  {
   "cell_type": "markdown",
   "metadata": {},
   "source": [
    "__ __"
   ]
  },
  {
   "cell_type": "markdown",
   "metadata": {},
   "source": [
    "### Task 2"
   ]
  },
  {
   "cell_type": "code",
   "execution_count": null,
   "metadata": {},
   "outputs": [],
   "source": [
    "chromedriver_path = r\"C:\\Users\\91987\\Desktop\\New Web diver/chromedriver.exe\"\n",
    "webdrivers = webdriver.Chrome(executable_path=chromedriver_path)\n",
    "sleep(2)\n",
    "webdrivers.get(\"https://www.naukri.com/\")\n",
    "\n",
    "\n",
    "\n",
    "skill=webdrivers.find_element_by_css_selector(\"#qsb-keyword-sugg\")\n",
    "skill.send_keys(\"Data Scientist\")\n",
    "location=webdrivers.find_element_by_css_selector(\"#qsb-location-sugg\")\n",
    "location.send_keys(\"Bangalore\")\n",
    "search=webdrivers.find_element_by_css_selector(\"#root > div.naukriHomePageContainer > div.topSection > section > div > form > div.search-btn > button\")\n",
    "search.click()"
   ]
  },
  {
   "cell_type": "code",
   "execution_count": null,
   "metadata": {},
   "outputs": [],
   "source": [
    "job_title=[]\n",
    "job_location=[]\n",
    "company_name=[]\n",
    "exp_req=[]\n",
    "\n",
    "job_tags=webdrivers.find_elements_by_xpath(\"//a[@class='title fw500 ellipsis']\")\n",
    "job_tags[0:10]\n",
    "company_tags=webdrivers.find_elements_by_xpath(\"//a[@class='subTitle ellipsis fleft']\")\n",
    "company_tags[0:10]\n",
    "location_tags=webdrivers.find_elements_by_xpath(\"//li[@class='fleft grey-text br2 placeHolderLi location']\")\n",
    "location_tags[0:10]\n",
    "exp_tags=webdrivers.find_elements_by_xpath(\"//li[@class='fleft grey-text br2 placeHolderLi experience']\")\n",
    "exp_tags[0:10]"
   ]
  },
  {
   "cell_type": "code",
   "execution_count": null,
   "metadata": {},
   "outputs": [],
   "source": [
    "for i in range(0,10):\n",
    "    \n",
    "    job_tag=job_tags[i].text\n",
    "    job_title.append(job_tag)\n",
    "    company_tag=company_tags[i].text\n",
    "    company_name.append(company_tag)\n",
    "    location_tag=location_tags[i].text\n",
    "    job_location.append(location_tag)\n",
    "    exp_tag=exp_tags[i].text\n",
    "    exp_req.append(exp_tag)"
   ]
  },
  {
   "cell_type": "code",
   "execution_count": null,
   "metadata": {},
   "outputs": [],
   "source": [
    "Job_details=pd.DataFrame({})\n",
    "Job_details[\"Job Title\"]=job_title\n",
    "Job_details[\"Company Name\"]=company_name\n",
    "Job_details[\"Job Location\"]=job_location\n",
    "Job_details[\"Experience Required\"]=exp_req"
   ]
  },
  {
   "cell_type": "code",
   "execution_count": null,
   "metadata": {},
   "outputs": [],
   "source": [
    "Job_details"
   ]
  },
  {
   "cell_type": "markdown",
   "metadata": {},
   "source": [
    "#### Clicking on the Job"
   ]
  },
  {
   "cell_type": "code",
   "execution_count": null,
   "metadata": {},
   "outputs": [],
   "source": [
    "to_click=webdrivers.find_element_by_xpath(\"//a[@class='title fw500 ellipsis']\")\n",
    "to_click.click()"
   ]
  },
  {
   "cell_type": "code",
   "execution_count": null,
   "metadata": {},
   "outputs": [],
   "source": [
    "data4=webdrivers.find_element_by_xpath(\"/html/body/div[1]/main/div[2]/div[2]/section[2]\")"
   ]
  },
  {
   "cell_type": "code",
   "execution_count": null,
   "metadata": {},
   "outputs": [],
   "source": [
    "data5=webdrivers.find_element_by_xpath(\"//section[@class='job-desc']\")"
   ]
  },
  {
   "cell_type": "code",
   "execution_count": null,
   "metadata": {},
   "outputs": [],
   "source": [
    "data5=webdrivers.find_elements_by_class_name(\"job-desc\")"
   ]
  },
  {
   "cell_type": "code",
   "execution_count": null,
   "metadata": {},
   "outputs": [],
   "source": []
  },
  {
   "cell_type": "code",
   "execution_count": null,
   "metadata": {},
   "outputs": [],
   "source": []
  },
  {
   "cell_type": "markdown",
   "metadata": {},
   "source": [
    "__ __"
   ]
  },
  {
   "cell_type": "markdown",
   "metadata": {},
   "source": [
    "### Task 3"
   ]
  },
  {
   "cell_type": "code",
   "execution_count": null,
   "metadata": {},
   "outputs": [],
   "source": [
    "chromedriver_path = r\"C:\\Users\\91987\\Desktop\\New Web diver/chromedriver.exe\"\n",
    "webdrivers = webdriver.Chrome(executable_path=chromedriver_path)\n",
    "sleep(2)\n",
    "webdrivers.get(\"https://www.naukri.com/\")\n",
    "\n",
    "\n",
    "\n",
    "skill=webdrivers.find_element_by_css_selector(\"#qsb-keyword-sugg\")\n",
    "skill.send_keys(\"Data Scientist\")\n",
    "#location=webdrivers.find_element_by_css_selector(\"#qsb-location-sugg\")\n",
    "#location.send_keys(\"Bangalore\")\n",
    "search=webdrivers.find_element_by_css_selector(\"#root > div.naukriHomePageContainer > div.topSection > section > div > form > div.search-btn > button\")\n",
    "search.click()\n",
    "sleep(3)"
   ]
  },
  {
   "cell_type": "code",
   "execution_count": null,
   "metadata": {},
   "outputs": [],
   "source": [
    "# selecting filter for location\n",
    "loc_filter=webdrivers.find_elements_by_xpath(\"//span[@class='ellipsis fleft']\")\n",
    "for i in loc_filter:\n",
    "    if i.text==\"Delhi / NCR\":\n",
    "        i.click()\n",
    "        break\n",
    "sleep(3)"
   ]
  },
  {
   "cell_type": "code",
   "execution_count": null,
   "metadata": {},
   "outputs": [],
   "source": [
    "# Salary filter \n",
    "\n",
    "sal_filter=webdrivers.find_elements_by_xpath(\"//span[@class='ellipsis fleft']\")\n",
    "for i in sal_filter:\n",
    "    if i.text==\"3-6 Lakhs\":\n",
    "        i.click()\n",
    "        break\n"
   ]
  },
  {
   "cell_type": "code",
   "execution_count": null,
   "metadata": {},
   "outputs": [],
   "source": [
    "# Scraping data for the first 10 jobs.\n",
    "\n",
    "job_title=[]\n",
    "job_location=[]\n",
    "company_name=[]\n",
    "exp_req=[]\n",
    "\n",
    "job_tags=webdrivers.find_elements_by_xpath(\"//a[@class='title fw500 ellipsis']\")\n",
    "job_tags[0:10]\n",
    "company_tags=webdrivers.find_elements_by_xpath(\"//a[@class='subTitle ellipsis fleft']\")\n",
    "company_tags[0:10]\n",
    "location_tags=webdrivers.find_elements_by_xpath(\"//li[@class='fleft grey-text br2 placeHolderLi location']\")\n",
    "location_tags[0:10]\n",
    "exp_tags=webdrivers.find_elements_by_xpath(\"//li[@class='fleft grey-text br2 placeHolderLi experience']\")\n",
    "exp_tags[0:10]"
   ]
  },
  {
   "cell_type": "code",
   "execution_count": null,
   "metadata": {},
   "outputs": [],
   "source": [
    "for i in range(0,10):\n",
    "    \n",
    "    job_tag=job_tags[i].text\n",
    "    job_title.append(job_tag)\n",
    "    company_tag=company_tags[i].text\n",
    "    company_name.append(company_tag)\n",
    "    location_tag=location_tags[i].text\n",
    "    job_location.append(location_tag)\n",
    "    exp_tag=exp_tags[i].text\n",
    "    exp_req.append(exp_tag)"
   ]
  },
  {
   "cell_type": "code",
   "execution_count": null,
   "metadata": {},
   "outputs": [],
   "source": [
    "Job_details=pd.DataFrame({})\n",
    "Job_details[\"Job Title\"]=job_title\n",
    "Job_details[\"Company Name\"]=company_name\n",
    "Job_details[\"Job Location\"]=job_location\n",
    "Job_details[\"Experience Required\"]=exp_req"
   ]
  },
  {
   "cell_type": "code",
   "execution_count": null,
   "metadata": {},
   "outputs": [],
   "source": [
    "Job_details"
   ]
  },
  {
   "cell_type": "markdown",
   "metadata": {},
   "source": [
    "__ __"
   ]
  },
  {
   "cell_type": "markdown",
   "metadata": {},
   "source": [
    "### Task 4"
   ]
  },
  {
   "cell_type": "code",
   "execution_count": 4,
   "metadata": {},
   "outputs": [],
   "source": [
    "chromedriver_path = r\"C:\\Users\\91987\\Desktop\\New Web diver/chromedriver.exe\"\n",
    "webdrivers = webdriver.Chrome(executable_path=chromedriver_path)\n",
    "sleep(2)\n",
    "webdrivers.get(\"https://www.glassdoor.co.in/index.htm\")"
   ]
  },
  {
   "cell_type": "code",
   "execution_count": 5,
   "metadata": {},
   "outputs": [],
   "source": [
    "go_sign_in=webdrivers.find_element_by_class_name(\"locked-home-sign-in\")\n",
    "go_sign_in.click()\n",
    "sleep(5)"
   ]
  },
  {
   "cell_type": "code",
   "execution_count": 6,
   "metadata": {},
   "outputs": [],
   "source": [
    "# Signing in to Glassdoor\n",
    "\n",
    "email=webdrivers.find_element_by_xpath(\"/html/body/div[8]/div/div/div[2]/div[2]/div[2]/div/div/div/div[3]/form/div[1]/div/div/input\")\n",
    "email.send_keys(\"kaushikbhugarv@gmail.com\")\n",
    "\n",
    "password=webdrivers.find_element_by_xpath(\"/html/body/div[8]/div/div/div[2]/div[2]/div[2]/div/div/div/div[3]/form/div[2]/div/div/input\")\n",
    "password.send_keys(\"BK9873194546kb!!@@\")\n",
    "\n",
    "sign_in=webdrivers.find_element_by_xpath(\"/html/body/div[8]/div/div/div[2]/div[2]/div[2]/div/div/div/div[3]/form/div[3]/div[1]/button\")\n",
    "sign_in.click()\n",
    "\n",
    "sleep(3)"
   ]
  },
  {
   "cell_type": "code",
   "execution_count": 7,
   "metadata": {},
   "outputs": [],
   "source": [
    "# Entering job as Data Scientist and location as Noida\n",
    "\n",
    "job=webdrivers.find_element_by_xpath(\"/html/body/header/nav[1]/div/div/div/div[4]/div[3]/form/div/div[1]/div/div/input\")\n",
    "job.send_keys(\"Data Scientist\")\n",
    "\n",
    "location=webdrivers.find_element_by_xpath(\"/html/body/header/nav[1]/div/div/div/div[4]/div[3]/form/div/div[3]/div/input\")\n",
    "location.send_keys(\"Noida\")\n",
    "\n",
    "search=webdrivers.find_element_by_xpath(\"/html/body/header/nav[1]/div/div/div/div[4]/div[3]/form/div/button\")\n",
    "search.click()\n",
    "sleep(3)\n"
   ]
  },
  {
   "cell_type": "code",
   "execution_count": 12,
   "metadata": {},
   "outputs": [],
   "source": [
    "# Scraping Data required.\n",
    "company_name = []\n",
    "no_of_day=[]\n",
    "rating_given=[]\n",
    "\n",
    "company=webdrivers.find_elements_by_xpath(\"//div[@class='d-flex justify-content-between align-items-start']\")\n",
    "a_rat=webdrivers.find_elements_by_xpath(\"//div[@class='d-flex flex-column css-x75kgh e1rrn5ka3']\")\n",
    "no_days=webdrivers.find_elements_by_xpath(\"//div[@class='d-flex align-items-end pl-std css-mi55ob']\")\n",
    "\n",
    "\n",
    "for i in range(0,15):\n",
    "    c=company[i].text\n",
    "    company_name.append(c)\n",
    "    r=a_rat[i].text\n",
    "    rating_given.append(r)\n",
    "    d=no_days[i].text\n",
    "    no_of_day.append(d)\n"
   ]
  },
  {
   "cell_type": "code",
   "execution_count": 13,
   "metadata": {},
   "outputs": [],
   "source": [
    "res = [str(k or \"No Rating found\") for k in rating_given]"
   ]
  },
  {
   "cell_type": "code",
   "execution_count": 14,
   "metadata": {},
   "outputs": [
    {
     "data": {
      "application/javascript": [
       "\n",
       "        if (window._pyforest_update_imports_cell) { window._pyforest_update_imports_cell('import pandas as pd'); }\n",
       "    "
      ],
      "text/plain": [
       "<IPython.core.display.Javascript object>"
      ]
     },
     "metadata": {},
     "output_type": "display_data"
    }
   ],
   "source": [
    "Job_details=pd.DataFrame({})\n",
    "Job_details[\"Company Name\"]=company_name\n",
    "Job_details[\"No. of days since job posted\"]=no_of_day\n",
    "Job_details[\"Rating\"]=res"
   ]
  },
  {
   "cell_type": "code",
   "execution_count": 15,
   "metadata": {},
   "outputs": [
    {
     "data": {
      "text/html": [
       "<div>\n",
       "<style scoped>\n",
       "    .dataframe tbody tr th:only-of-type {\n",
       "        vertical-align: middle;\n",
       "    }\n",
       "\n",
       "    .dataframe tbody tr th {\n",
       "        vertical-align: top;\n",
       "    }\n",
       "\n",
       "    .dataframe thead th {\n",
       "        text-align: right;\n",
       "    }\n",
       "</style>\n",
       "<table border=\"1\" class=\"dataframe\">\n",
       "  <thead>\n",
       "    <tr style=\"text-align: right;\">\n",
       "      <th></th>\n",
       "      <th>Company Name</th>\n",
       "      <th>No. of days since job posted</th>\n",
       "      <th>Rating</th>\n",
       "    </tr>\n",
       "  </thead>\n",
       "  <tbody>\n",
       "    <tr>\n",
       "      <th>0</th>\n",
       "      <td>BlackRock</td>\n",
       "      <td>18d</td>\n",
       "      <td>4.0</td>\n",
       "    </tr>\n",
       "    <tr>\n",
       "      <th>1</th>\n",
       "      <td>Elsevier</td>\n",
       "      <td>12d</td>\n",
       "      <td>4.3</td>\n",
       "    </tr>\n",
       "    <tr>\n",
       "      <th>2</th>\n",
       "      <td>Adobe</td>\n",
       "      <td>1d</td>\n",
       "      <td>4.4</td>\n",
       "    </tr>\n",
       "    <tr>\n",
       "      <th>3</th>\n",
       "      <td>Ank Aha</td>\n",
       "      <td>27d</td>\n",
       "      <td>4.0</td>\n",
       "    </tr>\n",
       "    <tr>\n",
       "      <th>4</th>\n",
       "      <td>American Express Global Business Travel</td>\n",
       "      <td>5d</td>\n",
       "      <td>3.9</td>\n",
       "    </tr>\n",
       "    <tr>\n",
       "      <th>5</th>\n",
       "      <td>Boston Consulting Group</td>\n",
       "      <td>13d</td>\n",
       "      <td>4.0</td>\n",
       "    </tr>\n",
       "    <tr>\n",
       "      <th>6</th>\n",
       "      <td>Techlive</td>\n",
       "      <td>5d</td>\n",
       "      <td>5.0</td>\n",
       "    </tr>\n",
       "    <tr>\n",
       "      <th>7</th>\n",
       "      <td>Biz2Credit Inc</td>\n",
       "      <td>7d</td>\n",
       "      <td>3.8</td>\n",
       "    </tr>\n",
       "    <tr>\n",
       "      <th>8</th>\n",
       "      <td>JLL</td>\n",
       "      <td>24h</td>\n",
       "      <td>4.0</td>\n",
       "    </tr>\n",
       "    <tr>\n",
       "      <th>9</th>\n",
       "      <td>Ciena</td>\n",
       "      <td>5d</td>\n",
       "      <td>4.3</td>\n",
       "    </tr>\n",
       "    <tr>\n",
       "      <th>10</th>\n",
       "      <td>Srijan Technologies Pvt Ltd</td>\n",
       "      <td>4d</td>\n",
       "      <td>3.9</td>\n",
       "    </tr>\n",
       "    <tr>\n",
       "      <th>11</th>\n",
       "      <td>Fitfyles</td>\n",
       "      <td>27d</td>\n",
       "      <td>No Rating found</td>\n",
       "    </tr>\n",
       "    <tr>\n",
       "      <th>12</th>\n",
       "      <td>Mahajan Imaging</td>\n",
       "      <td>27d</td>\n",
       "      <td>4.0</td>\n",
       "    </tr>\n",
       "    <tr>\n",
       "      <th>13</th>\n",
       "      <td>MasterCard</td>\n",
       "      <td>2d</td>\n",
       "      <td>4.3</td>\n",
       "    </tr>\n",
       "    <tr>\n",
       "      <th>14</th>\n",
       "      <td>NatWest Group</td>\n",
       "      <td>15d</td>\n",
       "      <td>3.9</td>\n",
       "    </tr>\n",
       "  </tbody>\n",
       "</table>\n",
       "</div>"
      ],
      "text/plain": [
       "                               Company Name No. of days since job posted  \\\n",
       "0                                 BlackRock                          18d   \n",
       "1                                  Elsevier                          12d   \n",
       "2                                     Adobe                           1d   \n",
       "3                                   Ank Aha                          27d   \n",
       "4   American Express Global Business Travel                           5d   \n",
       "5                   Boston Consulting Group                          13d   \n",
       "6                                  Techlive                           5d   \n",
       "7                            Biz2Credit Inc                           7d   \n",
       "8                                       JLL                          24h   \n",
       "9                                     Ciena                           5d   \n",
       "10              Srijan Technologies Pvt Ltd                           4d   \n",
       "11                                 Fitfyles                          27d   \n",
       "12                          Mahajan Imaging                          27d   \n",
       "13                               MasterCard                           2d   \n",
       "14                            NatWest Group                          15d   \n",
       "\n",
       "             Rating  \n",
       "0               4.0  \n",
       "1               4.3  \n",
       "2               4.4  \n",
       "3               4.0  \n",
       "4               3.9  \n",
       "5               4.0  \n",
       "6               5.0  \n",
       "7               3.8  \n",
       "8               4.0  \n",
       "9               4.3  \n",
       "10              3.9  \n",
       "11  No Rating found  \n",
       "12              4.0  \n",
       "13              4.3  \n",
       "14              3.9  "
      ]
     },
     "execution_count": 15,
     "metadata": {},
     "output_type": "execute_result"
    }
   ],
   "source": [
    "Job_details"
   ]
  },
  {
   "cell_type": "markdown",
   "metadata": {},
   "source": [
    "__ __"
   ]
  },
  {
   "cell_type": "markdown",
   "metadata": {},
   "source": [
    "### Task 5"
   ]
  },
  {
   "cell_type": "code",
   "execution_count": 2,
   "metadata": {},
   "outputs": [],
   "source": [
    "chromedriver_path = r\"C:\\Users\\91987\\Desktop\\New Web diver/chromedriver.exe\"\n",
    "webdrivers = webdriver.Chrome(executable_path=chromedriver_path)\n",
    "sleep(2)\n",
    "webdrivers.get(\"https://www.glassdoor.co.in/index.htm\")\n",
    "sleep(5)"
   ]
  },
  {
   "cell_type": "code",
   "execution_count": 3,
   "metadata": {},
   "outputs": [],
   "source": [
    "go_sign_in=webdrivers.find_element_by_class_name(\"locked-home-sign-in\")\n",
    "go_sign_in.click()\n",
    "sleep(3)"
   ]
  },
  {
   "cell_type": "code",
   "execution_count": 4,
   "metadata": {},
   "outputs": [],
   "source": [
    "# Signing in to Glassdoor\n",
    "\n",
    "email=webdrivers.find_element_by_xpath(\"/html/body/div[8]/div/div/div[2]/div[2]/div[2]/div/div/div/div[3]/form/div[1]/div/div/input\")\n",
    "email.send_keys(\"kaushikbhugarv@gmail.com\")\n",
    "\n",
    "password=webdrivers.find_element_by_xpath(\"/html/body/div[8]/div/div/div[2]/div[2]/div[2]/div/div/div/div[3]/form/div[2]/div/div/input\")\n",
    "password.send_keys(\"BK9873194546kb!!@@\")\n",
    "\n",
    "sign_in=webdrivers.find_element_by_xpath(\"/html/body/div[8]/div/div/div[2]/div[2]/div[2]/div/div/div/div[3]/form/div[3]/div[1]/button\")\n",
    "sign_in.click()\n",
    "\n",
    "sleep(3)"
   ]
  },
  {
   "cell_type": "code",
   "execution_count": 5,
   "metadata": {},
   "outputs": [],
   "source": [
    "job=webdrivers.find_element_by_xpath(\"/html/body/header/nav[1]/div/div/div/div[4]/div[3]/form/div/div[1]/div/div/input\")\n",
    "job.send_keys(\"Data Scientist\")\n",
    "\n",
    "location=webdrivers.find_element_by_xpath(\"/html/body/header/nav[1]/div/div/div/div[4]/div[3]/form/div/div[3]/div/input\")\n",
    "location.send_keys(\"Noida\")\n",
    "\n",
    "search=webdrivers.find_element_by_xpath(\"/html/body/header/nav[1]/div/div/div/div[4]/div[3]/form/div/button\")\n",
    "search.click()\n",
    "sleep(3)"
   ]
  },
  {
   "cell_type": "code",
   "execution_count": 6,
   "metadata": {},
   "outputs": [],
   "source": [
    "from selenium.common.exceptions import NoSuchElementException"
   ]
  },
  {
   "cell_type": "code",
   "execution_count": 7,
   "metadata": {},
   "outputs": [],
   "source": [
    "# Scraping Data required.\n",
    "company_name = []\n",
    "rating_given=[]\n",
    "salary=[]\n",
    "\n",
    "\n",
    "company=webdrivers.find_elements_by_xpath(\"//div[@class='d-flex justify-content-between align-items-start']\")\n",
    "a_rat=webdrivers.find_elements_by_xpath(\"//div[@class='d-flex flex-column css-x75kgh e1rrn5ka3']\")\n",
    "\n",
    "for i in range(0,10):\n",
    "    try:\n",
    "        sal=webdrivers.find_elements_by_xpath(\"//span[@class='css-1imh2hq e1wijj242']\")\n",
    "        s=sal[i].text\n",
    "        salary.append(s)\n",
    "        \n",
    "    except NoSuchElementException as e:\n",
    "        salary.append(\"No Salary found\")\n",
    "        \n",
    "        \n",
    "\n",
    "for i in range(0,15):\n",
    "    c=company[i].text\n",
    "    company_name.append(c)\n",
    "    r=a_rat[i].text\n",
    "    rating_given.append(r)\n",
    "    #s=sal[i].text\n",
    "    #salary.append(s)\n"
   ]
  },
  {
   "cell_type": "code",
   "execution_count": 8,
   "metadata": {},
   "outputs": [
    {
     "data": {
      "text/plain": [
       "['₹592K - ₹737K (Glassdoor Est.)',\n",
       " '₹394K - ₹608K (Glassdoor Est.)',\n",
       " '₹384K - ₹675K (Glassdoor Est.)',\n",
       " '₹495K - ₹841K (Glassdoor Est.)',\n",
       " '₹168K - ₹500K (Glassdoor Est.)',\n",
       " '₹400K - ₹808K (Glassdoor Est.)',\n",
       " '₹223K - ₹621K (Glassdoor Est.)',\n",
       " '₹258K - ₹800K (Glassdoor Est.)',\n",
       " '₹384K - ₹675K (Glassdoor Est.)',\n",
       " '₹279K - ₹382K (Glassdoor Est.)']"
      ]
     },
     "execution_count": 8,
     "metadata": {},
     "output_type": "execute_result"
    }
   ],
   "source": [
    "salary"
   ]
  },
  {
   "cell_type": "code",
   "execution_count": 10,
   "metadata": {},
   "outputs": [],
   "source": [
    "# Treating missing ratings if any.\n",
    "res = [str(k or \"No Rating found\") for k in rating_given]"
   ]
  },
  {
   "cell_type": "code",
   "execution_count": 11,
   "metadata": {},
   "outputs": [],
   "source": [
    "# Extracting Minimum and Maximum salary from combined text\n",
    "\n",
    "min_=[]\n",
    "max_=[]\n",
    "\n",
    "for m in salary:\n",
    "    min_.append(m.split(' ')[0])\n",
    "    max_.append(m.split(' ')[2])"
   ]
  },
  {
   "cell_type": "code",
   "execution_count": 12,
   "metadata": {},
   "outputs": [],
   "source": [
    "# Removing special characters from the extracted salaries.\n",
    "\n",
    "max_salary=[]\n",
    "min_salary=[]\n",
    "\n",
    "for (i,j) in zip(max_,min_):\n",
    "    for char in \"₹K,\":\n",
    "        i=i.replace(char,\"\")\n",
    "        j=j.replace(char,\"\")\n",
    "    max_salary.append(i)\n",
    "    min_salary.append(j)"
   ]
  },
  {
   "cell_type": "code",
   "execution_count": 13,
   "metadata": {},
   "outputs": [],
   "source": [
    "# Calculating Average Salaries.\n",
    "\n",
    "avg_salary=[]\n",
    "for (i,j) in zip(min_salary,max_salary):\n",
    "    avg=((float(i)+float(j))/2)\n",
    "    avg_salary.append(avg)"
   ]
  },
  {
   "cell_type": "code",
   "execution_count": 14,
   "metadata": {},
   "outputs": [],
   "source": [
    "# Creating Dataframe."
   ]
  },
  {
   "cell_type": "code",
   "execution_count": 20,
   "metadata": {},
   "outputs": [
    {
     "data": {
      "application/javascript": [
       "\n",
       "        if (window._pyforest_update_imports_cell) { window._pyforest_update_imports_cell('import pandas as pd'); }\n",
       "    "
      ],
      "text/plain": [
       "<IPython.core.display.Javascript object>"
      ]
     },
     "metadata": {},
     "output_type": "display_data"
    }
   ],
   "source": [
    "Job_details=pd.DataFrame({})\n",
    "Job_details[\"Company Name\"]=company_name\n",
    "Job_details[\"Rating\"]=res\n",
    "Job_details[\"Maximum Salary\"]=max_salary\n",
    "Job_details[\"Minimum Salary\"]=min_salary\n",
    "Job_details[\"Average Salary\"]=avg_salary\n",
    "\n"
   ]
  },
  {
   "cell_type": "code",
   "execution_count": 21,
   "metadata": {},
   "outputs": [
    {
     "data": {
      "text/html": [
       "<div>\n",
       "<style scoped>\n",
       "    .dataframe tbody tr th:only-of-type {\n",
       "        vertical-align: middle;\n",
       "    }\n",
       "\n",
       "    .dataframe tbody tr th {\n",
       "        vertical-align: top;\n",
       "    }\n",
       "\n",
       "    .dataframe thead th {\n",
       "        text-align: right;\n",
       "    }\n",
       "</style>\n",
       "<table border=\"1\" class=\"dataframe\">\n",
       "  <thead>\n",
       "    <tr style=\"text-align: right;\">\n",
       "      <th></th>\n",
       "      <th>Company Name</th>\n",
       "      <th>Rating</th>\n",
       "      <th>Maximum Salary</th>\n",
       "      <th>Minimum Salary</th>\n",
       "      <th>Average Salary</th>\n",
       "    </tr>\n",
       "  </thead>\n",
       "  <tbody>\n",
       "    <tr>\n",
       "      <th>0</th>\n",
       "      <td>BlackRock</td>\n",
       "      <td>4.0</td>\n",
       "      <td>737</td>\n",
       "      <td>592</td>\n",
       "      <td>664.5</td>\n",
       "    </tr>\n",
       "    <tr>\n",
       "      <th>1</th>\n",
       "      <td>Elsevier</td>\n",
       "      <td>4.3</td>\n",
       "      <td>608</td>\n",
       "      <td>394</td>\n",
       "      <td>501.0</td>\n",
       "    </tr>\n",
       "    <tr>\n",
       "      <th>2</th>\n",
       "      <td>Techlive</td>\n",
       "      <td>5.0</td>\n",
       "      <td>675</td>\n",
       "      <td>384</td>\n",
       "      <td>529.5</td>\n",
       "    </tr>\n",
       "    <tr>\n",
       "      <th>3</th>\n",
       "      <td>Adobe</td>\n",
       "      <td>4.4</td>\n",
       "      <td>841</td>\n",
       "      <td>495</td>\n",
       "      <td>668.0</td>\n",
       "    </tr>\n",
       "    <tr>\n",
       "      <th>4</th>\n",
       "      <td>Biz2Credit Inc</td>\n",
       "      <td>3.8</td>\n",
       "      <td>500</td>\n",
       "      <td>168</td>\n",
       "      <td>334.0</td>\n",
       "    </tr>\n",
       "    <tr>\n",
       "      <th>5</th>\n",
       "      <td>WishFin</td>\n",
       "      <td>3.8</td>\n",
       "      <td>808</td>\n",
       "      <td>400</td>\n",
       "      <td>604.0</td>\n",
       "    </tr>\n",
       "    <tr>\n",
       "      <th>6</th>\n",
       "      <td>abc consultants</td>\n",
       "      <td>4.2</td>\n",
       "      <td>621</td>\n",
       "      <td>223</td>\n",
       "      <td>422.0</td>\n",
       "    </tr>\n",
       "    <tr>\n",
       "      <th>7</th>\n",
       "      <td>Priority Vendor</td>\n",
       "      <td>3.7</td>\n",
       "      <td>800</td>\n",
       "      <td>258</td>\n",
       "      <td>529.0</td>\n",
       "    </tr>\n",
       "    <tr>\n",
       "      <th>8</th>\n",
       "      <td>Gauge Data Solutions</td>\n",
       "      <td>3.1</td>\n",
       "      <td>675</td>\n",
       "      <td>384</td>\n",
       "      <td>529.5</td>\n",
       "    </tr>\n",
       "    <tr>\n",
       "      <th>9</th>\n",
       "      <td>Healtheoz India</td>\n",
       "      <td>4.8</td>\n",
       "      <td>382</td>\n",
       "      <td>279</td>\n",
       "      <td>330.5</td>\n",
       "    </tr>\n",
       "    <tr>\n",
       "      <th>10</th>\n",
       "      <td>Microsoft</td>\n",
       "      <td>4.4</td>\n",
       "      <td>808</td>\n",
       "      <td>400</td>\n",
       "      <td>604.0</td>\n",
       "    </tr>\n",
       "    <tr>\n",
       "      <th>11</th>\n",
       "      <td>Salasar New Age Technologies</td>\n",
       "      <td>No Rating found</td>\n",
       "      <td>817</td>\n",
       "      <td>747</td>\n",
       "      <td>782.0</td>\n",
       "    </tr>\n",
       "    <tr>\n",
       "      <th>12</th>\n",
       "      <td>SearchUrCollege</td>\n",
       "      <td>No Rating found</td>\n",
       "      <td>808</td>\n",
       "      <td>400</td>\n",
       "      <td>604.0</td>\n",
       "    </tr>\n",
       "    <tr>\n",
       "      <th>13</th>\n",
       "      <td>American Express Global Business Travel</td>\n",
       "      <td>3.9</td>\n",
       "      <td>878</td>\n",
       "      <td>720</td>\n",
       "      <td>799.0</td>\n",
       "    </tr>\n",
       "    <tr>\n",
       "      <th>14</th>\n",
       "      <td>xtLytics</td>\n",
       "      <td>3.0</td>\n",
       "      <td>1000</td>\n",
       "      <td>560</td>\n",
       "      <td>780.0</td>\n",
       "    </tr>\n",
       "  </tbody>\n",
       "</table>\n",
       "</div>"
      ],
      "text/plain": [
       "                               Company Name           Rating Maximum Salary  \\\n",
       "0                                 BlackRock              4.0            737   \n",
       "1                                  Elsevier              4.3            608   \n",
       "2                                  Techlive              5.0            675   \n",
       "3                                     Adobe              4.4            841   \n",
       "4                            Biz2Credit Inc              3.8            500   \n",
       "5                                   WishFin              3.8            808   \n",
       "6                           abc consultants              4.2            621   \n",
       "7                           Priority Vendor              3.7            800   \n",
       "8                      Gauge Data Solutions              3.1            675   \n",
       "9                           Healtheoz India              4.8            382   \n",
       "10                                Microsoft              4.4            808   \n",
       "11             Salasar New Age Technologies  No Rating found            817   \n",
       "12                          SearchUrCollege  No Rating found            808   \n",
       "13  American Express Global Business Travel              3.9            878   \n",
       "14                                 xtLytics              3.0           1000   \n",
       "\n",
       "   Minimum Salary  Average Salary  \n",
       "0             592           664.5  \n",
       "1             394           501.0  \n",
       "2             384           529.5  \n",
       "3             495           668.0  \n",
       "4             168           334.0  \n",
       "5             400           604.0  \n",
       "6             223           422.0  \n",
       "7             258           529.0  \n",
       "8             384           529.5  \n",
       "9             279           330.5  \n",
       "10            400           604.0  \n",
       "11            747           782.0  \n",
       "12            400           604.0  \n",
       "13            720           799.0  \n",
       "14            560           780.0  "
      ]
     },
     "execution_count": 21,
     "metadata": {},
     "output_type": "execute_result"
    }
   ],
   "source": [
    "Job_details"
   ]
  },
  {
   "cell_type": "markdown",
   "metadata": {},
   "source": [
    "__ __"
   ]
  },
  {
   "cell_type": "markdown",
   "metadata": {},
   "source": [
    "### Task 6"
   ]
  },
  {
   "cell_type": "code",
   "execution_count": null,
   "metadata": {},
   "outputs": [],
   "source": [
    "chromedriver_path=r\"C:\\Users\\91987\\Desktop\\New Web diver/chromedriver.exe\"\n",
    "webdrivers= webdriver.Chrome(executable_path=chromedriver_path)\n",
    "sleep(2)\n",
    "webdrivers.get(\"https://www.flipkart.com/\")"
   ]
  },
  {
   "cell_type": "code",
   "execution_count": null,
   "metadata": {},
   "outputs": [],
   "source": [
    "search_field=webdrivers.find_element_by_xpath(\"/html/body/div[1]/div/div[1]/div[1]/div[2]/div[2]/form/div/div/input\")\n",
    "search_field.send_keys(\"sunglasses\")\n",
    "\n",
    "search_btn=webdrivers.find_element_by_xpath(\"//button[@class='L0Z3Pu']\")\n",
    "search_btn.click()"
   ]
  },
  {
   "cell_type": "code",
   "execution_count": null,
   "metadata": {},
   "outputs": [],
   "source": [
    "brand=webdrivers.find_elements_by_xpath(\"//div[@class='_2WkVRV']\")"
   ]
  },
  {
   "cell_type": "code",
   "execution_count": null,
   "metadata": {},
   "outputs": [],
   "source": [
    "for i in range(len(brand)):\n",
    "    print(brand[i].text)"
   ]
  },
  {
   "cell_type": "code",
   "execution_count": null,
   "metadata": {},
   "outputs": [],
   "source": [
    "description=webdrivers.find_elements_by_xpath(\"//a[@class='IRpwTa']\")"
   ]
  },
  {
   "cell_type": "code",
   "execution_count": null,
   "metadata": {},
   "outputs": [],
   "source": [
    "for i in range(len(description)):\n",
    "    print(description[i].text)"
   ]
  },
  {
   "cell_type": "code",
   "execution_count": null,
   "metadata": {},
   "outputs": [],
   "source": [
    "price=webdrivers.find_elements_by_xpath(\"//div[@class='_30jeq3']\")"
   ]
  },
  {
   "cell_type": "code",
   "execution_count": null,
   "metadata": {},
   "outputs": [],
   "source": [
    "for i in range(len(price)):\n",
    "    print(price[i].text)"
   ]
  },
  {
   "cell_type": "code",
   "execution_count": null,
   "metadata": {},
   "outputs": [],
   "source": [
    "discount=webdrivers.find_elements_by_xpath(\"//div[@class='_3Ay6Sb']\")"
   ]
  },
  {
   "cell_type": "code",
   "execution_count": null,
   "metadata": {},
   "outputs": [],
   "source": [
    "for i in range(len(discount)):\n",
    "    print(discount[i].text)"
   ]
  },
  {
   "cell_type": "code",
   "execution_count": null,
   "metadata": {},
   "outputs": [],
   "source": [
    "next_page=webdrivers.find_element_by_xpath(\"//a[@class='_1LKTO3']\")\n",
    "#n_p=next_page.get_attribute('href')\n",
    "for i in range(1,5):\n",
    "    N_p='https://www.flipkart.com/search?q=sunglassessunglasses&otracker=search&otracker1=search&marketplace=FLIPKART&as-show=on&as=off&page='+str(i)\n",
    "    sleep(2)\n",
    "    webdrivers.get(N_p)"
   ]
  },
  {
   "cell_type": "code",
   "execution_count": null,
   "metadata": {},
   "outputs": [],
   "source": [
    "next_page=webdrivers.find_element_by_xpath(\"//a[@class='_1LKTO3']\")\n",
    "n_p=next_page.get_attribute('href')\n",
    "#webdrivers.get(n_p)\n",
    "n_p\n"
   ]
  },
  {
   "cell_type": "code",
   "execution_count": null,
   "metadata": {},
   "outputs": [],
   "source": [
    "N_p='https://www.flipkart.com/search?q=sunglassessunglasses&otracker=search&otracker1=search&marketplace=FLIPKART&as-show=on&as=off&page='+'5'"
   ]
  },
  {
   "cell_type": "code",
   "execution_count": null,
   "metadata": {},
   "outputs": [],
   "source": [
    "webdrivers.get(N_p)"
   ]
  },
  {
   "cell_type": "code",
   "execution_count": null,
   "metadata": {},
   "outputs": [],
   "source": [
    "brand_name=[]\n",
    "\n",
    "for i in range(len(brand)):\n",
    "    brand_name.append(brand)\n",
    "    if len(brand_name)<100:\n",
    "        next_page.click()\n",
    "            "
   ]
  },
  {
   "cell_type": "code",
   "execution_count": null,
   "metadata": {},
   "outputs": [],
   "source": [
    "len(brand_name)"
   ]
  },
  {
   "cell_type": "code",
   "execution_count": null,
   "metadata": {},
   "outputs": [],
   "source": [
    "def flipkart(url):\n",
    "    name=[]\n",
    "    chromedriver_path=r\"C:\\Users\\91987\\Desktop\\New Web diver/chromedriver.exe\"\n",
    "    webdrivers= webdriver.Chrome(executable_path=chromedriver_path)\n",
    "    sleep(2)\n",
    "    webdrivers.get(url)\n",
    "    sleep(2)\n",
    "    \n",
    "    search_field=webdrivers.find_element_by_xpath(\"/html/body/div[1]/div/div[1]/div[1]/div[2]/div[2]/form/div/div/input\")\n",
    "    search_field.send_keys(\"sunglasses\")\n",
    "    \n",
    "    search_btn=webdrivers.find_element_by_xpath(\"//button[@class='L0Z3Pu']\")\n",
    "    search_btn.click()\n",
    "    \n",
    "    #next_page=webdrivers.find_element_by_xpath(\"//a[@class='_1LKTO3']\")\n",
    "    #n_p=next_page.get_attribute('href')\n",
    "    brand=webdrivers.find_elements_by_xpath(\"//div[@class='_2WkVRV']\")\n",
    "    for j in range(len(brand)):\n",
    "        name.append(brand[j].text)\n",
    "        \n",
    "    next_p(\"https://www.flipkart.com/search?q=sunglassessunglasses&otracker=search&otracker1=search&marketplace=FLIPKART&as-show=on&as=off&page=\")\n",
    "    \n",
    "    \n",
    "    "
   ]
  },
  {
   "cell_type": "code",
   "execution_count": null,
   "metadata": {},
   "outputs": [],
   "source": [
    "def next_p(link):\n",
    "    for k in range(2,5):\n",
    "        N_p=link+str(i)\n",
    "        webdrivers.get(N_p)\n",
    "        if len(name)<100:\n",
    "            for m in range(len(brand)):\n",
    "                name.append(brand)\n",
    "    \n",
    "   \n",
    "    "
   ]
  },
  {
   "cell_type": "markdown",
   "metadata": {},
   "source": [
    "__ __"
   ]
  },
  {
   "cell_type": "markdown",
   "metadata": {},
   "source": [
    "### Task 10"
   ]
  },
  {
   "cell_type": "code",
   "execution_count": 1,
   "metadata": {},
   "outputs": [],
   "source": [
    "from selenium.common.exceptions import NoSuchElementException"
   ]
  },
  {
   "cell_type": "code",
   "execution_count": 4,
   "metadata": {},
   "outputs": [],
   "source": [
    "chromedriver_path = r\"C:\\Users\\91987\\Desktop\\New Web diver/chromedriver.exe\"\n",
    "webdrivers = webdriver.Chrome(executable_path=chromedriver_path)\n",
    "webdrivers = webdriver.Chrome(executable_path=chromedriver_path)\n",
    "sleep(2)\n",
    "webdrivers.get(\"https://www.amazon.in/\")\n"
   ]
  },
  {
   "cell_type": "code",
   "execution_count": 5,
   "metadata": {},
   "outputs": [],
   "source": [
    "search=webdrivers.find_element_by_id(\"twotabsearchtextbox\")\n",
    "search.clear()\n",
    "search.send_keys(\"Laptops\")\n",
    "search_click=webdrivers.find_element_by_xpath(\"//span[@id='nav-search-submit-text']\")\n",
    "search_click.click()"
   ]
  },
  {
   "cell_type": "code",
   "execution_count": 6,
   "metadata": {},
   "outputs": [
    {
     "name": "stdout",
     "output_type": "stream",
     "text": [
      "Intel Core i7\n"
     ]
    }
   ],
   "source": [
    "# Applying filter \n",
    "\n",
    "#i7\n",
    "\n",
    "filter_1=webdrivers.find_elements_by_xpath(\"//a[@class='a-link-normal s-navigation-item']/span\")\n",
    "for i in filter_1:\n",
    "    if i.text==\"Intel Core i7\":\n",
    "        print(i.text)\n",
    "        i.click()\n",
    "        break"
   ]
  },
  {
   "cell_type": "code",
   "execution_count": 7,
   "metadata": {},
   "outputs": [
    {
     "name": "stdout",
     "output_type": "stream",
     "text": [
      "Intel Core i9\n"
     ]
    }
   ],
   "source": [
    "# Applying filter \n",
    "\n",
    "#i9\n",
    "\n",
    "filter_2=webdrivers.find_elements_by_xpath(\"//a[@class='a-link-normal s-navigation-item']/span\")\n",
    "for i in filter_2:\n",
    "    if i.text==\"Intel Core i9\":\n",
    "        print(i.text)\n",
    "        i.click()\n",
    "        break"
   ]
  },
  {
   "cell_type": "code",
   "execution_count": 8,
   "metadata": {},
   "outputs": [],
   "source": [
    "Title=[]\n",
    "title=webdrivers.find_elements_by_xpath(\"//span[@class='a-size-medium a-color-base a-text-normal']\")\n",
    "for i in title[:10]:\n",
    "    Title.append(i.text)\n",
    "    "
   ]
  },
  {
   "cell_type": "code",
   "execution_count": 9,
   "metadata": {},
   "outputs": [],
   "source": [
    "Price=[]\n",
    "\n",
    "prices=webdrivers.find_elements_by_xpath(\"//span[@class='a-price-whole']\")\n",
    "for i in prices[:10]:\n",
    "    Price.append(i.text)"
   ]
  },
  {
   "cell_type": "code",
   "execution_count": 10,
   "metadata": {},
   "outputs": [],
   "source": [
    "ratings=[]\n",
    "\n",
    "pages=webdrivers.find_elements_by_xpath(\"//a[@class='a-link-normal a-text-normal']\")\n",
    "PG=[]\n",
    "for i in pages[:10]:\n",
    "    PG.append(i.get_attribute('href'))\n",
    "for j in PG:\n",
    "    webdrivers.get(j)\n",
    "    try:\n",
    "        star=webdrivers.find_element_by_xpath(\"//span[@id='acrCustomerReviewText']\")\n",
    "        star.click()\n",
    "        rating=webdrivers.find_element_by_xpath(\"//span[@class='a-size-medium a-color-base']\")\n",
    "        ratings.append(rating.text)\n",
    "    except NoSuchElementException as e:\n",
    "        ratings.append(\"No ratings found\")\n",
    "        "
   ]
  },
  {
   "cell_type": "code",
   "execution_count": 11,
   "metadata": {},
   "outputs": [
    {
     "data": {
      "application/javascript": [
       "\n",
       "        if (window._pyforest_update_imports_cell) { window._pyforest_update_imports_cell('import pandas as pd'); }\n",
       "    "
      ],
      "text/plain": [
       "<IPython.core.display.Javascript object>"
      ]
     },
     "metadata": {},
     "output_type": "display_data"
    },
    {
     "name": "stdout",
     "output_type": "stream",
     "text": [
      "                                               Title     Price  \\\n",
      "0  Lenovo IdeaPad Flex 5 11th Gen Intel Core i7 1...    86,690   \n",
      "1  ASUS ZenBook 14 (2020) Intel Core i7-1165G7 11...    95,993   \n",
      "2  ASUS ROG G703GI-E5148T 17.3-inch FHD 144Hz/3ms...  5,22,077   \n",
      "3  HP Pavilion Gaming 10th Gen Intel Core i7 Proc...    79,999   \n",
      "4  HP 14 Thin & Light 14-inch FHD Laptop (11th Ge...    76,500   \n",
      "5  (Renewed) HP EliteBook 820 G4 Laptop (CORE I5 ...    40,790   \n",
      "6  Lenovo IdeaPad Gaming 3 10th Gen Intel Core i7...    77,990   \n",
      "7  Dell Latitude 3410 14 Inch HD Intel Core i7 10...    88,990   \n",
      "8  LifeDigital ZED AIR CX7 15.6 IPS FHD Screen Bl...    40,990   \n",
      "9  Mi Notebook Horizon Edition 14 Intel Core i7-1...    58,999   \n",
      "\n",
      "            Ratings  \n",
      "0      4.2 out of 5  \n",
      "1      4.4 out of 5  \n",
      "2      3.9 out of 5  \n",
      "3  No ratings found  \n",
      "4      4.6 out of 5  \n",
      "5  No ratings found  \n",
      "6      4.4 out of 5  \n",
      "7  No ratings found  \n",
      "8      3.5 out of 5  \n",
      "9      4.4 out of 5  \n"
     ]
    }
   ],
   "source": [
    "records=pd.DataFrame({'Title':Title,\n",
    "                 'Price':Price,\n",
    "                 'Ratings':ratings})\n",
    "print(records)"
   ]
  },
  {
   "cell_type": "code",
   "execution_count": null,
   "metadata": {},
   "outputs": [],
   "source": []
  },
  {
   "cell_type": "code",
   "execution_count": null,
   "metadata": {},
   "outputs": [],
   "source": []
  },
  {
   "cell_type": "code",
   "execution_count": null,
   "metadata": {},
   "outputs": [],
   "source": []
  },
  {
   "cell_type": "code",
   "execution_count": null,
   "metadata": {},
   "outputs": [],
   "source": []
  },
  {
   "cell_type": "code",
   "execution_count": null,
   "metadata": {},
   "outputs": [],
   "source": []
  },
  {
   "cell_type": "code",
   "execution_count": null,
   "metadata": {},
   "outputs": [],
   "source": []
  },
  {
   "cell_type": "code",
   "execution_count": null,
   "metadata": {},
   "outputs": [],
   "source": []
  },
  {
   "cell_type": "code",
   "execution_count": null,
   "metadata": {},
   "outputs": [],
   "source": []
  },
  {
   "cell_type": "code",
   "execution_count": null,
   "metadata": {},
   "outputs": [],
   "source": []
  },
  {
   "cell_type": "code",
   "execution_count": null,
   "metadata": {},
   "outputs": [],
   "source": []
  },
  {
   "cell_type": "code",
   "execution_count": null,
   "metadata": {},
   "outputs": [],
   "source": []
  },
  {
   "cell_type": "code",
   "execution_count": null,
   "metadata": {},
   "outputs": [],
   "source": []
  },
  {
   "cell_type": "code",
   "execution_count": null,
   "metadata": {},
   "outputs": [],
   "source": []
  },
  {
   "cell_type": "code",
   "execution_count": null,
   "metadata": {},
   "outputs": [],
   "source": []
  },
  {
   "cell_type": "code",
   "execution_count": null,
   "metadata": {},
   "outputs": [],
   "source": []
  },
  {
   "cell_type": "code",
   "execution_count": null,
   "metadata": {},
   "outputs": [],
   "source": []
  },
  {
   "cell_type": "code",
   "execution_count": null,
   "metadata": {},
   "outputs": [],
   "source": []
  },
  {
   "cell_type": "code",
   "execution_count": null,
   "metadata": {},
   "outputs": [],
   "source": []
  }
 ],
 "metadata": {
  "kernelspec": {
   "display_name": "Python 3",
   "language": "python",
   "name": "python3"
  },
  "language_info": {
   "codemirror_mode": {
    "name": "ipython",
    "version": 3
   },
   "file_extension": ".py",
   "mimetype": "text/x-python",
   "name": "python",
   "nbconvert_exporter": "python",
   "pygments_lexer": "ipython3",
   "version": "3.7.6"
  }
 },
 "nbformat": 4,
 "nbformat_minor": 4
}
